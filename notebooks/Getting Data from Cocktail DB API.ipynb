{
 "cells": [
  {
   "cell_type": "code",
   "execution_count": 1,
   "metadata": {
    "collapsed": true
   },
   "outputs": [],
   "source": [
    "import requests\n",
    "categories = requests.get('http://www.thecocktaildb.com/api/json/v1/1/list.php?c=list')\n"
   ]
  },
  {
   "cell_type": "code",
   "execution_count": 5,
   "metadata": {},
   "outputs": [
    {
     "data": {
      "text/plain": [
       "[{'strCategory': 'Ordinary Drink'},\n",
       " {'strCategory': 'Cocktail'},\n",
       " {'strCategory': 'Milk / Float / Shake'},\n",
       " {'strCategory': 'Other/Unknown'},\n",
       " {'strCategory': 'Cocoa'},\n",
       " {'strCategory': 'Shot'},\n",
       " {'strCategory': 'Coffee / Tea'},\n",
       " {'strCategory': 'Homemade Liqueur'},\n",
       " {'strCategory': 'Punch / Party Drink'},\n",
       " {'strCategory': 'Beer'},\n",
       " {'strCategory': 'Soft Drink / Soda'}]"
      ]
     },
     "execution_count": 5,
     "metadata": {},
     "output_type": "execute_result"
    }
   ],
   "source": [
    "categories.json()['drinks']"
   ]
  },
  {
   "cell_type": "code",
   "execution_count": 28,
   "metadata": {
    "collapsed": true
   },
   "outputs": [],
   "source": [
    "drinks_by_category = []\n",
    "for category in categories.json()['drinks']:\n",
    "    drinks_by_category.append(requests.get('http://www.thecocktaildb.com/api/json/v1/1/filter.php?c='+category['strCategory']).json())\n"
   ]
  },
  {
   "cell_type": "code",
   "execution_count": 35,
   "metadata": {},
   "outputs": [],
   "source": [
    "drink_ids = []\n",
    "for drinks in drinks_by_category:\n",
    "    for drink in drinks['drinks']:\n",
    "        drink_ids.append(drink['idDrink'])\n"
   ]
  },
  {
   "cell_type": "code",
   "execution_count": 37,
   "metadata": {},
   "outputs": [
    {
     "data": {
      "text/plain": [
       "521"
      ]
     },
     "execution_count": 37,
     "metadata": {},
     "output_type": "execute_result"
    }
   ],
   "source": [
    "len(drink_ids)"
   ]
  },
  {
   "cell_type": "code",
   "execution_count": 46,
   "metadata": {
    "collapsed": true
   },
   "outputs": [],
   "source": [
    "cocktails = []\n",
    "for id in drink_ids:\n",
    "    cocktails.append(requests.get('http://www.thecocktaildb.com/api/json/v1/1/lookup.php?i='+id).json()['drinks'])"
   ]
  },
  {
   "cell_type": "code",
   "execution_count": 63,
   "metadata": {},
   "outputs": [
    {
     "data": {
      "text/plain": [
       "[[{'dateModified': '2016-08-31 19:42:52',\n",
       "   'idDrink': '15300',\n",
       "   'strAlcoholic': 'Alcoholic',\n",
       "   'strCategory': 'Ordinary Drink',\n",
       "   'strDrink': '3-Mile Long Island Iced Tea',\n",
       "   'strDrinkThumb': 'http://www.thecocktaildb.com/images/media/drink/rrtssw1472668972.jpg',\n",
       "   'strGlass': 'Collins Glass',\n",
       "   'strIBA': None,\n",
       "   'strIngredient1': 'Gin',\n",
       "   'strIngredient10': '',\n",
       "   'strIngredient11': '',\n",
       "   'strIngredient12': '',\n",
       "   'strIngredient13': '',\n",
       "   'strIngredient14': '',\n",
       "   'strIngredient15': '',\n",
       "   'strIngredient2': 'Light rum',\n",
       "   'strIngredient3': 'Tequila',\n",
       "   'strIngredient4': 'Triple sec',\n",
       "   'strIngredient5': 'Vodka',\n",
       "   'strIngredient6': 'Coca-Cola',\n",
       "   'strIngredient7': 'Sweet and sour',\n",
       "   'strIngredient8': 'Bitters',\n",
       "   'strIngredient9': 'Lemon',\n",
       "   'strInstructions': 'Fill 14oz glass with ice and alcohol. Fill 2/3 glass with cola and remainder with sweet & sour. Top with dash of bitters and lemon wedge.',\n",
       "   'strMeasure1': '1/2 oz ',\n",
       "   'strMeasure10': ' ',\n",
       "   'strMeasure11': ' ',\n",
       "   'strMeasure12': ' ',\n",
       "   'strMeasure13': ' ',\n",
       "   'strMeasure14': '',\n",
       "   'strMeasure15': '',\n",
       "   'strMeasure2': '1/2 oz ',\n",
       "   'strMeasure3': '1/2 oz ',\n",
       "   'strMeasure4': '1/2 oz ',\n",
       "   'strMeasure5': '1/2 oz ',\n",
       "   'strMeasure6': '\\n',\n",
       "   'strMeasure7': '1-2 dash ',\n",
       "   'strMeasure8': '1 wedge ',\n",
       "   'strMeasure9': ' ',\n",
       "   'strVideo': None}]]"
      ]
     },
     "execution_count": 63,
     "metadata": {},
     "output_type": "execute_result"
    }
   ],
   "source": [
    "cocktails[:1]"
   ]
  },
  {
   "cell_type": "code",
   "execution_count": 52,
   "metadata": {},
   "outputs": [],
   "source": [
    "inputs = []\n",
    "targets = []\n",
    "\n",
    "for cocktail in cocktails:\n",
    "    cocktail = cocktail[0]\n",
    "    inputs.append(cocktail['strDrink'])\n",
    "    \n",
    "    ingredients = []\n",
    "    for i in range(1,15):\n",
    "        ingredients.append({cocktail['strIngredient'+str(i)]: cocktail['strMeasure'+str(i)]})\n",
    "        \n",
    "    targets.append([cocktail['strAlcoholic'], cocktail['strCategory'], cocktail['strDrink'], ingredients])"
   ]
  },
  {
   "cell_type": "code",
   "execution_count": 61,
   "metadata": {},
   "outputs": [
    {
     "data": {
      "text/plain": [
       "['3-Mile Long Island Iced Tea',\n",
       " '410 Gone',\n",
       " '50/50',\n",
       " '501 Blue',\n",
       " '69 Special',\n",
       " 'A Day at the Beach',\n",
       " 'A Furlong Too Late',\n",
       " 'A midsummernight dream',\n",
       " 'A Night In Old Mandalay',\n",
       " 'A. J.']"
      ]
     },
     "execution_count": 61,
     "metadata": {},
     "output_type": "execute_result"
    }
   ],
   "source": [
    "inputs[:10]"
   ]
  },
  {
   "cell_type": "code",
   "execution_count": 56,
   "metadata": {},
   "outputs": [
    {
     "data": {
      "text/plain": [
       "[['Alcoholic',\n",
       "  'Ordinary Drink',\n",
       "  '3-Mile Long Island Iced Tea',\n",
       "  [{'Gin': '1/2 oz '},\n",
       "   {'Light rum': '1/2 oz '},\n",
       "   {'Tequila': '1/2 oz '},\n",
       "   {'Triple sec': '1/2 oz '},\n",
       "   {'Vodka': '1/2 oz '},\n",
       "   {'Coca-Cola': '\\n'},\n",
       "   {'Sweet and sour': '1-2 dash '},\n",
       "   {'Bitters': '1 wedge '},\n",
       "   {'Lemon': ' '},\n",
       "   {'': ' '},\n",
       "   {'': ' '},\n",
       "   {'': ' '},\n",
       "   {'': ' '},\n",
       "   {'': ''}]],\n",
       " ['Alcoholic',\n",
       "  'Ordinary Drink',\n",
       "  '410 Gone',\n",
       "  [{'Peach Vodka': '2-3 oz'},\n",
       "   {'Coca-Cola': ''},\n",
       "   {'': ''},\n",
       "   {'': ''},\n",
       "   {'': ''},\n",
       "   {'': ''},\n",
       "   {'': ''},\n",
       "   {'': ''},\n",
       "   {'': ''},\n",
       "   {'': ''},\n",
       "   {'': ''},\n",
       "   {'': ''},\n",
       "   {'': ''},\n",
       "   {'': ''}]]]"
      ]
     },
     "execution_count": 56,
     "metadata": {},
     "output_type": "execute_result"
    }
   ],
   "source": [
    "targets[:2]"
   ]
  },
  {
   "cell_type": "code",
   "execution_count": null,
   "metadata": {
    "collapsed": true
   },
   "outputs": [],
   "source": []
  }
 ],
 "metadata": {
  "kernelspec": {
   "display_name": "Python 3",
   "language": "python",
   "name": "python3"
  },
  "language_info": {
   "codemirror_mode": {
    "name": "ipython",
    "version": 3
   },
   "file_extension": ".py",
   "mimetype": "text/x-python",
   "name": "python",
   "nbconvert_exporter": "python",
   "pygments_lexer": "ipython3",
   "version": "3.6.2"
  }
 },
 "nbformat": 4,
 "nbformat_minor": 2
}
